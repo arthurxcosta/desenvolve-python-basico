{
 "cells": [
  {
   "cell_type": "code",
   "execution_count": 2,
   "id": "8165672c-0b37-4966-b73a-d85941c29b59",
   "metadata": {},
   "outputs": [
    {
     "name": "stdout",
     "output_type": "stream",
     "text": [
      "Valor de x: 1\n",
      "Valor de y: 2\n",
      "Valor de z: 3\n",
      "Valor de a: 10\n",
      "Valor de b: 4\n",
      "Valor de c: 2\n"
     ]
    }
   ],
   "source": [
    "x, y, z = 1, 2, 3\n",
    "print(\"Valor de x:\",x)\n",
    "print(\"Valor de y:\",y)\n",
    "print(\"Valor de z:\",z)\n",
    "\n",
    "a, b, c = 10, 1 + z, z - y + x\n",
    "print(\"Valor de a:\",a)\n",
    "print(\"Valor de b:\",b)\n",
    "print(\"Valor de c:\",c)"
   ]
  },
  {
   "cell_type": "code",
   "execution_count": 6,
   "id": "339113d6-e425-4920-a51c-5ffa1506fd83",
   "metadata": {},
   "outputs": [
    {
     "name": "stdout",
     "output_type": "stream",
     "text": [
      "11.0\n",
      "11.0\n",
      "11.0\n",
      "11.0\n"
     ]
    }
   ],
   "source": [
    "x = 1 + (((2 ** 3) / 4) * 5)\n",
    "print(x)\n",
    "\n",
    "potencia = 2 ** 3\n",
    "x = 1 + (potencia / 4) * 5\n",
    "print(x)\n",
    "\n",
    "divisao = potencia/4\n",
    "x = 1 + (divisao * 5)\n",
    "print (x)\n",
    "\n",
    "multiplicacao = divisao * 5\n",
    "x = 1 + multiplicacao\n",
    "print(x)"
   ]
  }
 ],
 "metadata": {
  "kernelspec": {
   "display_name": "Python 3 (ipykernel)",
   "language": "python",
   "name": "python3"
  },
  "language_info": {
   "codemirror_mode": {
    "name": "ipython",
    "version": 3
   },
   "file_extension": ".py",
   "mimetype": "text/x-python",
   "name": "python",
   "nbconvert_exporter": "python",
   "pygments_lexer": "ipython3",
   "version": "3.13.4"
  }
 },
 "nbformat": 4,
 "nbformat_minor": 5
}

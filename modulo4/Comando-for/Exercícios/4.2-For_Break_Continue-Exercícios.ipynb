{
 "cells": [
  {
   "cell_type": "markdown",
   "id": "29e89030",
   "metadata": {},
   "source": [
    "# Módulo 4 - Repetições\n",
    "\n",
    "## Aulas 4.2 - Comando ```for``` e 4.3 Break e Continue"
   ]
  },
  {
   "cell_type": "markdown",
   "id": "a45b42df",
   "metadata": {},
   "source": [
    "### Q1.\n",
    "\n",
    "Crie um programa em Python que utilize o comando for para imprimir os números de 10 a 1, em ordem decrescente."
   ]
  },
  {
   "cell_type": "code",
   "execution_count": 5,
   "id": "55a75b3d",
   "metadata": {},
   "outputs": [
    {
     "name": "stdout",
     "output_type": "stream",
     "text": [
      "10\n",
      "9\n",
      "8\n",
      "7\n",
      "6\n",
      "5\n",
      "4\n",
      "3\n",
      "2\n",
      "1\n"
     ]
    }
   ],
   "source": [
    "## Escreva e execute seu código aqui\n",
    "for n in range(10, 0, -1):\n",
    "    print(n)"
   ]
  },
  {
   "cell_type": "markdown",
   "id": "94b47c36",
   "metadata": {},
   "source": [
    "### Q2.\n",
    "\n",
    "Dado um número inteiro positivo informado pelo usuário, crie um programa em Python que utilize o comando for para calcular e exibir a soma dos números de 1 até o número informado. Ou seja, $1 + 2 + 3 + ... + n$\n",
    "\n",
    "Exemplo de interação:\n",
    "```\n",
    "Digite um número: 5\n",
    "A soma dos números de 1 a 5 é 15\n",
    "```\n"
   ]
  },
  {
   "cell_type": "code",
   "execution_count": 12,
   "id": "45b71596",
   "metadata": {},
   "outputs": [
    {
     "name": "stdout",
     "output_type": "stream",
     "text": [
      "15\n"
     ]
    }
   ],
   "source": [
    "## Escreva e execute seu código aqui\n",
    "n = int(input('Digite o valor de n: '))\n",
    "soma = 0\n",
    "\n",
    "for n in range(1, n+1):\n",
    "    soma += n\n",
    "\n",
    "print(soma)"
   ]
  },
  {
   "cell_type": "markdown",
   "id": "0411d170",
   "metadata": {},
   "source": [
    "### Q3.\n",
    "\n",
    "Escreva um programa que lê 10 valores inteiros positivos do usuário e ao final imprime a média dos valores digitados com duas casas decimais.\n",
    "\n",
    "```\n",
    "Digite 10 números positivos:\n",
    "3\n",
    "2\n",
    "12\n",
    "14\n",
    "20\n",
    "42\n",
    "19\n",
    "0\n",
    "8\n",
    "1\n",
    "A média dos valores digitados é 12.10\n",
    "```"
   ]
  },
  {
   "cell_type": "code",
   "execution_count": 22,
   "id": "3f72f358",
   "metadata": {},
   "outputs": [
    {
     "name": "stdout",
     "output_type": "stream",
     "text": [
      "Digite 10 números positivos:\n",
      "A média dos valores digitados é 12.10\n"
     ]
    }
   ],
   "source": [
    "## Escreva e execute seu código aqui\n",
    "print('Digite 10 números positivos:')\n",
    "soma = 0\n",
    "\n",
    "for i in range(10):\n",
    "    numero  = int(input('Digite o número'))\n",
    "    soma    += numero\n",
    "\n",
    "media = soma / 10\n",
    "\n",
    "print(f'A média dos valores digitados é {media:.2f}')\n",
    "\n",
    "    "
   ]
  },
  {
   "cell_type": "markdown",
   "id": "d62e27ff",
   "metadata": {},
   "source": [
    "### Q4.\n",
    "\n",
    "Você vai criar um sistema que registra os resultados dos jogos do Atlético MG ao longo de um campeonato. Seu sistema vai receber os resultados de todos os jogos do Galo, e deve calcular a pontuação do time sabendo que vitórias valem 3 pontos, empates 1 ponto e derrotas 0 pontos.\n",
    "\n",
    "Entrada: <br>\n",
    "A primeira linha de entrada é um inteiro N com a quantidade jogos do galo. Para cada jogo você deve ler 2 inteiros, o primeiro com a quantidade de gols do galo e o segundo com a quantidade de gols do time oponente. \n",
    "\n",
    "Saída: <br>\n",
    "Apresente a soma de vitórias, empates e derrotas do galo, junto com o cálculo da pontuação total.\n",
    "\n",
    "Ex:\n",
    "```\n",
    "Entrada:\n",
    "4\n",
    "2\n",
    "0\n",
    "1\n",
    "1\n",
    "0\n",
    "3\n",
    "1\n",
    "0\n",
    "\n",
    "Saída:\n",
    "Vitórias: 2\n",
    "Empates: 1\n",
    "Derrotas: 1\n",
    "Pontuação: 7\n",
    "\n",
    "```\n",
    "\n",
    "\n"
   ]
  },
  {
   "cell_type": "code",
   "execution_count": null,
   "id": "d3fdfc2a",
   "metadata": {},
   "outputs": [],
   "source": [
    "## Escreva e execute seu código aqui\n",
    "n = int(input('Digite o número de jogos: '))\n",
    "soma_vitorias   = 0\n",
    "soma_empates    = 0\n",
    "soma_derrotas   = 0\n",
    "\n",
    "for jogo in range (n):\n",
    "    gols_galo   = int(input('Quantos gols o galo fez? '))\n",
    "    gols_adver  = int(input('Quantos gols o oponente fez? '))\n",
    "\n",
    "    if gols_galo > gols_adver:\n",
    "        soma_vitorias += 1\n",
    "    elif gols_galo < gols_adver:\n",
    "        soma_derrotas += 1\n",
    "    else:\n",
    "        soma_empates += 1\n",
    "\n",
    "print('Total de vitórias: ', soma_vitorias)\n",
    "print('Total de empates: ', soma_empates)\n",
    "print('Total de derrotas: ', soma_derrotas)\n",
    "print('Pontuação total: ', 3 * soma_vitorias + soma_empates)"
   ]
  },
  {
   "cell_type": "markdown",
   "id": "fc98604d",
   "metadata": {},
   "source": [
    "### Q5.\n",
    "\n",
    "Faça um programa que lê dois inteiros N e M, e imprime na tela um campo de batalha naval. O tabuleiro deve possuir N linhas e M colunas. A primeira linha é composta por um espaço em branco e o cabeçalho das colunas, ou seja, valores de 1 a M. As N linhas seguintes iniciam com o cabeçalho da linha, ou seja, seu número, seguido de M caracteres \"/\" (barra) indicando uma possível posição jogável. \n",
    "\n",
    "```\n",
    "Entrada:\n",
    "5\n",
    "4\n",
    "\n",
    "Saída:\n",
    "  1 2 3 4 \n",
    "1 / / / / \n",
    "2 / / / / \n",
    "3 / / / / \n",
    "4 / / / / \n",
    "5 / / / / \n",
    "```\n",
    "\n",
    "Para esse exercício, precisamos lembrar que o comando print implicitamente adiciona uma quebra de linha ao final da impressão. Podemos interferir no final da impressão adicionando mais uma entrada ao print. No exemplo, finalizamos cada linha com um espaço em branco:\n",
    "```python\n",
    "print(\"Texto qualquer\", end = \" \")\n",
    "```"
   ]
  },
  {
   "cell_type": "code",
   "execution_count": 29,
   "id": "a60ef197",
   "metadata": {},
   "outputs": [
    {
     "name": "stdout",
     "output_type": "stream",
     "text": [
      "  1 2 3 4 5 6 7 8\n",
      "1 / / / / / / / /\n",
      "2 / / / / / / / /\n"
     ]
    }
   ],
   "source": [
    "## Escreva e execute seu código aqui\n",
    "linhas = int(input('Digite o número de linhas: '))\n",
    "colunas = int(input('Digite o número de colunas: '))\n",
    "\n",
    "cabecalho = \" \"\n",
    "for col in range(1, colunas + 1):\n",
    "    cabecalho += f' {col}'\n",
    "print(cabecalho)\n",
    "\n",
    "for lin in range(1, linhas + 1):\n",
    "    jogo = f'{lin}'\n",
    "    for _ in range(colunas):\n",
    "        jogo += ' /'\n",
    "    print(jogo)"
   ]
  },
  {
   "cell_type": "markdown",
   "id": "4654dc0b",
   "metadata": {},
   "source": [
    "---\n",
    "## Break e Continue"
   ]
  },
  {
   "cell_type": "markdown",
   "id": "24fe9d85",
   "metadata": {},
   "source": [
    "### Q6.\n",
    "\n",
    "Escreva um programa que lê uma quantidade indefinida de valores e informa o maior e o menor valor digitados. A leitura é encerrada quando o usuário digitar o valor 0 (zero).\n",
    "\n",
    "```\n",
    "Entrada:\n",
    "12\n",
    "-1\n",
    "29\n",
    "11\n",
    "-5\n",
    "0\n",
    "\n",
    "Saída:\n",
    "Maior: 29\n",
    "Menor: -5\n",
    "```"
   ]
  },
  {
   "cell_type": "code",
   "execution_count": 38,
   "id": "ee1c466a",
   "metadata": {},
   "outputs": [
    {
     "name": "stdout",
     "output_type": "stream",
     "text": [
      "Maior número digitado: 29\n",
      "Menor número digitado: -5\n"
     ]
    }
   ],
   "source": [
    "## Escreva e execute seu código aqui\n",
    "maior = None\n",
    "menor = None\n",
    "\n",
    "while True:\n",
    "    n = int(input('Digite um valor: '))\n",
    "\n",
    "    if n == 0:\n",
    "        break\n",
    "\n",
    "    if maior is None or n > maior:\n",
    "        maior = n\n",
    "\n",
    "    if menor is None or n < menor:\n",
    "        menor = n\n",
    "\n",
    "print(f'Maior número digitado: {maior}')\n",
    "print(f'Menor número digitado: {menor}')"
   ]
  },
  {
   "cell_type": "markdown",
   "id": "30d486f7",
   "metadata": {},
   "source": [
    "### Q7.\n",
    "\n",
    "Escreva um programa que lê uma quantidade indefinida de valores e informa o **produto** dos valores positivos digitados. A leitura é encerrada quando o usuário digitar o valor 0 (zero).\n",
    "\n",
    "```\n",
    "Entrada:\n",
    "2\n",
    "-1\n",
    "1\n",
    "3\n",
    "-5\n",
    "0\n",
    "\n",
    "Saída:\n",
    "Produto: 6\n",
    "```"
   ]
  },
  {
   "cell_type": "code",
   "execution_count": 40,
   "id": "2f1ac324",
   "metadata": {},
   "outputs": [
    {
     "name": "stdout",
     "output_type": "stream",
     "text": [
      "O produto dos valores positivos digitados é: 6\n"
     ]
    }
   ],
   "source": [
    "## Escreva e execute seu código aqui\n",
    "produto = 0\n",
    "\n",
    "while True:\n",
    "    n = int(input('Digite um valor: '))\n",
    "\n",
    "    if n == 0:\n",
    "        break\n",
    "\n",
    "    if n > 0:\n",
    "        produto += n\n",
    "\n",
    "print(f'O produto dos valores positivos digitados é: {produto}')"
   ]
  },
  {
   "cell_type": "markdown",
   "id": "e932f3cf",
   "metadata": {},
   "source": [
    "### Q8.\n",
    "\n",
    "Vamos fazer uma calculadora que aceita expressões aritméticas de qualquer tamanho até que o usuário digite a palavra \"Fim\". Sua calculadora executa apenas as operações \"+\", \"-\".\n",
    "\n",
    "```\n",
    "Entrada:\n",
    "5\n",
    "+\n",
    "8\n",
    "-\n",
    "3\n",
    "+\n",
    "2\n",
    "Fim\n",
    "\n",
    "Saída:\n",
    "12\n",
    "```"
   ]
  },
  {
   "cell_type": "code",
   "execution_count": 43,
   "id": "e835d870",
   "metadata": {},
   "outputs": [
    {
     "name": "stdout",
     "output_type": "stream",
     "text": [
      "17\n"
     ]
    }
   ],
   "source": [
    "## Escreva e execute seu código aqui\n",
    "resultado = 0\n",
    "\n",
    "while True:\n",
    "    entrada = input('Digite o número que deseja adicionar a operação, e depois um operador (- ou +): ')\n",
    "\n",
    "    if entrada == 'Fim':\n",
    "        break\n",
    "    elif entrada == '-':\n",
    "        print(resultado)\n",
    "    elif entrada in ['+', '-']:\n",
    "        operador = entrada\n",
    "    else:\n",
    "        numero = int(entrada)\n",
    "        if operador == '+':\n",
    "            resultado += numero\n",
    "        elif operador == '-':\n",
    "            resultado -= numero\n",
    "    "
   ]
  }
 ],
 "metadata": {
  "kernelspec": {
   "display_name": "Python 3",
   "language": "python",
   "name": "python3"
  },
  "language_info": {
   "codemirror_mode": {
    "name": "ipython",
    "version": 3
   },
   "file_extension": ".py",
   "mimetype": "text/x-python",
   "name": "python",
   "nbconvert_exporter": "python",
   "pygments_lexer": "ipython3",
   "version": "3.13.5"
  }
 },
 "nbformat": 4,
 "nbformat_minor": 5
}
